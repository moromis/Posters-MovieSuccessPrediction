{
 "cells": [
  {
   "cell_type": "markdown",
   "metadata": {},
   "source": [
    "# Predicting Movie Success using Posters\n",
    "---\n",
    "### Model:\n",
    "    Deep Convolutional Neural Network\n",
    "\n",
    "### Developers:\n",
    "\n",
    "    Bardia Borhani  \n",
    "    Kevin Ulrich\n",
    "\n",
    "### Project Goals:\n",
    "1. Create a working deep convolutional neural network\n",
    "2. Train the network given posters from the [The Movies Dataset](https://www.kaggle.com/rounakbanik/the-movies-dataset)\n",
    "3. See what performance can be achieved from model predictions given new posters\n",
    "4. Bonus: Try out other models. Ensemble models."
   ]
  },
  {
   "cell_type": "markdown",
   "metadata": {},
   "source": [
    "# Setup Environment\n",
    "\n",
    "We import numpy and pandas here for all our data processing needs, and then we specify the input location, and check what files are in the input folder."
   ]
  },
  {
   "cell_type": "code",
   "execution_count": 61,
   "metadata": {},
   "outputs": [
    {
     "name": "stdout",
     "output_type": "stream",
     "text": [
      "goodbye world\n"
     ]
    }
   ],
   "source": [
    "print('goodbye world')"
   ]
  },
  {
   "cell_type": "code",
   "execution_count": 62,
   "metadata": {
    "_cell_guid": "b1076dfc-b9ad-4769-8c92-a6c4dae69d19",
    "_uuid": "8f2839f25d086af736a60e9eeb907d3b93b6e0e5"
   },
   "outputs": [
    {
     "name": "stdout",
     "output_type": "stream",
     "text": [
      "['links_small.csv', 'the-movies-dataset.zip', 'ratings.csv', 'links.csv', 'keywords.csv', 'credits.csv', 'ratings_small.csv', 'movies_metadata.csv']\n"
     ]
    }
   ],
   "source": [
    "import numpy as np # linear algebra\n",
    "import pandas as pd # data processing, CSV file I/O (e.g. pd.read_csv)\n",
    "import os\n",
    "\n",
    "input_loc = '../input/movie_dataset'\n",
    "\n",
    "print(os.listdir(input_loc))"
   ]
  },
  {
   "cell_type": "markdown",
   "metadata": {},
   "source": [
    "# Import Data\n",
    "\n",
    "We then read in the data from the movies_metadata file. We output the first few rows of the file just to preview it."
   ]
  },
  {
   "cell_type": "code",
   "execution_count": 63,
   "metadata": {
    "_cell_guid": "79c7e3d0-c299-4dcb-8224-4455121ee9b0",
    "_uuid": "d629ff2d2480ee46fbb7e2d37f6b5fab8052498a"
   },
   "outputs": [
    {
     "name": "stdout",
     "output_type": "stream",
     "text": [
      "38802    /sLvzxFBH5vGFei8oUNzDVwHKGdl.jpg\n",
      "Name: poster_path, dtype: object\n",
      "44660    NaN\n",
      "Name: poster_path, dtype: object\n"
     ]
    }
   ],
   "source": [
    "metadata = pd.read_csv(input_loc + '/movies_metadata.csv', low_memory=False)\n",
    "\n",
    "# preview the data\n",
    "# print(metadata.head())\n",
    "\n",
    "# there are some movies that don't have posters... we'll deal with these later\n",
    "print(str(metadata.iloc[[38802]]['poster_path']))\n",
    "print(str(metadata.iloc[[44660]]['poster_path']))"
   ]
  },
  {
   "cell_type": "markdown",
   "metadata": {},
   "source": [
    "Continuing in the theme of checking our data, let's see all the header names, which helps us locate (loc or iloc) our data by column when we want to go through it row by row."
   ]
  },
  {
   "cell_type": "code",
   "execution_count": 64,
   "metadata": {
    "_uuid": "4e346e9e91dd252e462feb234db4bd2d9c3a87b5",
    "scrolled": false
   },
   "outputs": [
    {
     "name": "stdout",
     "output_type": "stream",
     "text": [
      "adult\n",
      "belongs_to_collection\n",
      "budget\n",
      "genres\n",
      "homepage\n",
      "id\n",
      "imdb_id\n",
      "original_language\n",
      "original_title\n",
      "overview\n",
      "popularity\n",
      "poster_path\n",
      "production_companies\n",
      "production_countries\n",
      "release_date\n",
      "revenue\n",
      "runtime\n",
      "spoken_languages\n",
      "status\n",
      "tagline\n",
      "title\n",
      "video\n",
      "vote_average\n",
      "vote_count\n"
     ]
    }
   ],
   "source": [
    "# what are the column names?\n",
    "first_movie = metadata.iloc[[0]]\n",
    "for key, value in first_movie.items() :\n",
    "    print(key)"
   ]
  },
  {
   "cell_type": "markdown",
   "metadata": {},
   "source": [
    "# Scrape Posters\n",
    "\n",
    "The script below scrapes all the posters from the TMDB website. Note that we are downloading the images with a set width of 780. Hopefully this will mean that all the posters will be the same size. Other sizes that we could do would be `w500` or `original`, just by replacing wherever `w780` appears in the script.\n",
    "\n",
    "Also note that no error checking occurs. The script ran without a hitch and all was fine.\n",
    "\n",
    "This script takes about 5 hours to download the ~45,000 posters at 780 width. I've heard things about using sessions with the requests library, but didn't care enough to look into it. If the dataset were larger, that might be a good idea."
   ]
  },
  {
   "cell_type": "code",
   "execution_count": 65,
   "metadata": {
    "_uuid": "093f85ac37e27848ed394bfc207c02fcff175afa"
   },
   "outputs": [
    {
     "data": {
      "application/vnd.jupyter.widget-view+json": {
       "model_id": "b0cc9f76be8f40049d4e64d99aabb620",
       "version_major": 2,
       "version_minor": 0
      },
      "text/html": [
       "<p>Failed to display Jupyter Widget of type <code>HBox</code>.</p>\n",
       "<p>\n",
       "  If you're reading this message in the Jupyter Notebook or JupyterLab Notebook, it may mean\n",
       "  that the widgets JavaScript is still loading. If this message persists, it\n",
       "  likely means that the widgets JavaScript library is either not installed or\n",
       "  not enabled. See the <a href=\"https://ipywidgets.readthedocs.io/en/stable/user_install.html\">Jupyter\n",
       "  Widgets Documentation</a> for setup instructions.\n",
       "</p>\n",
       "<p>\n",
       "  If you're reading this message in another frontend (for example, a static\n",
       "  rendering on GitHub or <a href=\"https://nbviewer.jupyter.org/\">NBViewer</a>),\n",
       "  it may mean that your frontend doesn't currently support widgets.\n",
       "</p>\n"
      ],
      "text/plain": [
       "HBox(children=(IntProgress(value=0, max=45466), HTML(value='')))"
      ]
     },
     "metadata": {},
     "output_type": "display_data"
    },
    {
     "name": "stdout",
     "output_type": "stream",
     "text": [
      "\n"
     ]
    }
   ],
   "source": [
    "# get all movie posters\n",
    "\n",
    "# imports\n",
    "import requests\n",
    "from tqdm import tqdm_notebook\n",
    "\n",
    "# create a directory for the poster images to reside\n",
    "poster_dir = 'poster_imgs_backup/'\n",
    "if not os.path.exists(poster_dir):\n",
    "    os.makedirs(poster_dir)\n",
    "\n",
    "# for each row of data\n",
    "for index, row in tqdm_notebook(list(metadata.iterrows())):\n",
    "    \n",
    "    # build the file path\n",
    "    posterpath = str(row['poster_path'])\n",
    "    filename = str(index) + '.jpg' # ignore the given file extension, it might be non-existent\n",
    "    filepath = poster_dir + filename\n",
    "    \n",
    "    # if we haven't downloaded the file yet\n",
    "    if not os.path.exists(filepath):\n",
    "        \n",
    "        # download the movie poster from tmdb using the poster path\n",
    "        # and save it locally\n",
    "        url = 'http://image.tmdb.org/t/p/w780' + posterpath\n",
    "        r = requests.get(url, allow_redirects=True)\n",
    "        open(filepath, 'wb').write(r.content)"
   ]
  },
  {
   "cell_type": "markdown",
   "metadata": {},
   "source": [
    "# Load in the Data\n",
    "\n",
    "Now that we've scraped the posters, it's time to load them into memory so we can give them to our neural network to train it.\n",
    "\n",
    "The function we use to preview our images is from [here](https://gist.github.com/soply/f3eec2e79c165e39c9d540e916142ae1)"
   ]
  },
  {
   "cell_type": "code",
   "execution_count": 66,
   "metadata": {},
   "outputs": [],
   "source": [
    "# # function to plot first two images\n",
    "# def plotFirstN(image_collection, n):\n",
    "#     fig, ax = plt.subplots(ncols=n, sharex=True, sharey=True,\n",
    "#                        figsize=(n * 8, n * 4))\n",
    "\n",
    "#     for i in range(0, n):\n",
    "#         ax[i].imshow(image_collection[i], cmap=plt.cm.gray)\n",
    "\n",
    "#     for a in ax:\n",
    "#         a.axis('off')\n",
    "\n",
    "#     plt.tight_layout()\n",
    "#     plt.show()"
   ]
  },
  {
   "cell_type": "code",
   "execution_count": 67,
   "metadata": {},
   "outputs": [
    {
     "name": "stdout",
     "output_type": "stream",
     "text": [
      "number of files on disk:  45863\n"
     ]
    },
    {
     "data": {
      "application/vnd.jupyter.widget-view+json": {
       "model_id": "d287f61574194aa281c85b1bf42fea41",
       "version_major": 2,
       "version_minor": 0
      },
      "text/html": [
       "<p>Failed to display Jupyter Widget of type <code>HBox</code>.</p>\n",
       "<p>\n",
       "  If you're reading this message in the Jupyter Notebook or JupyterLab Notebook, it may mean\n",
       "  that the widgets JavaScript is still loading. If this message persists, it\n",
       "  likely means that the widgets JavaScript library is either not installed or\n",
       "  not enabled. See the <a href=\"https://ipywidgets.readthedocs.io/en/stable/user_install.html\">Jupyter\n",
       "  Widgets Documentation</a> for setup instructions.\n",
       "</p>\n",
       "<p>\n",
       "  If you're reading this message in another frontend (for example, a static\n",
       "  rendering on GitHub or <a href=\"https://nbviewer.jupyter.org/\">NBViewer</a>),\n",
       "  it may mean that your frontend doesn't currently support widgets.\n",
       "</p>\n"
      ],
      "text/plain": [
       "HBox(children=(IntProgress(value=0, max=45863), HTML(value='')))"
      ]
     },
     "metadata": {},
     "output_type": "display_data"
    },
    {
     "name": "stdout",
     "output_type": "stream",
     "text": [
      "\n",
      "with bad data:  45466\n"
     ]
    },
    {
     "data": {
      "application/vnd.jupyter.widget-view+json": {
       "model_id": "d3131c5567374d58b1ea5e08d11698b1",
       "version_major": 2,
       "version_minor": 0
      },
      "text/html": [
       "<p>Failed to display Jupyter Widget of type <code>HBox</code>.</p>\n",
       "<p>\n",
       "  If you're reading this message in the Jupyter Notebook or JupyterLab Notebook, it may mean\n",
       "  that the widgets JavaScript is still loading. If this message persists, it\n",
       "  likely means that the widgets JavaScript library is either not installed or\n",
       "  not enabled. See the <a href=\"https://ipywidgets.readthedocs.io/en/stable/user_install.html\">Jupyter\n",
       "  Widgets Documentation</a> for setup instructions.\n",
       "</p>\n",
       "<p>\n",
       "  If you're reading this message in another frontend (for example, a static\n",
       "  rendering on GitHub or <a href=\"https://nbviewer.jupyter.org/\">NBViewer</a>),\n",
       "  it may mean that your frontend doesn't currently support widgets.\n",
       "</p>\n"
      ],
      "text/plain": [
       "HBox(children=(IntProgress(value=0, max=45466), HTML(value='')))"
      ]
     },
     "metadata": {},
     "output_type": "display_data"
    },
    {
     "name": "stdout",
     "output_type": "stream",
     "text": [
      "\n",
      "without bad data:  45466\n"
     ]
    }
   ],
   "source": [
    "# read in filenames\n",
    "files = []\n",
    "for (dirpath, dirnames, filenames) in os.walk(poster_dir):\n",
    "    files.extend(filenames)\n",
    "    break\n",
    "\n",
    "# prepend the filepath to the filenames\n",
    "files = [(poster_dir + '{0}').format(i) for i in files]\n",
    "\n",
    "print('number of files on disk: ', len(files))\n",
    "\n",
    "# figure out all the bad metadata (movies without posters in the dataset)\n",
    "bad_metadata = []\n",
    "index = 0\n",
    "\n",
    "for filename in tqdm_notebook(list(files)):\n",
    "    if '.jpg' not in filename:\n",
    "        bad_metadata.append(index)\n",
    "        \n",
    "    index += 1\n",
    "    \n",
    "print('with bad data: ', len(metadata))\n",
    "\n",
    "# get rid of all the bad metadata\n",
    "good_metadata = []\n",
    "index = 0\n",
    "for data in tqdm_notebook(list(metadata.iterrows())):\n",
    "    \n",
    "    if index not in bad_metadata:\n",
    "        good_metadata.append(data)\n",
    "        \n",
    "    index += 1\n",
    "\n",
    "print('without bad data: ', len(metadata))"
   ]
  },
  {
   "cell_type": "code",
   "execution_count": 68,
   "metadata": {},
   "outputs": [
    {
     "name": "stdout",
     "output_type": "stream",
     "text": [
      "45863\n"
     ]
    }
   ],
   "source": [
    "from plot_images import show_images\n",
    "import skimage\n",
    "import skimage.io as io\n",
    "import skimage.transform\n",
    "from skimage import data\n",
    "import sys\n",
    "\n",
    "# read in the images\n",
    "images = io.imread_collection(list(files), conserve_memory=True)\n",
    "\n",
    "print(len(images))\n",
    "\n",
    "# show_images(images).show()"
   ]
  },
  {
   "cell_type": "code",
   "execution_count": null,
   "metadata": {},
   "outputs": [],
   "source": []
  }
 ],
 "metadata": {
  "kernelspec": {
   "display_name": "Python 3",
   "language": "python",
   "name": "python3"
  },
  "language_info": {
   "codemirror_mode": {
    "name": "ipython",
    "version": 3
   },
   "file_extension": ".py",
   "mimetype": "text/x-python",
   "name": "python",
   "nbconvert_exporter": "python",
   "pygments_lexer": "ipython3",
   "version": "3.5.5"
  }
 },
 "nbformat": 4,
 "nbformat_minor": 1
}
